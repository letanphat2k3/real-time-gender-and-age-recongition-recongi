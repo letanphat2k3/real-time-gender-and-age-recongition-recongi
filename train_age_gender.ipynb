{
 "cells": [
  {
   "cell_type": "code",
   "execution_count": 1,
   "metadata": {},
   "outputs": [],
   "source": [
    "# Import necessary modules first.\n",
    "import tensorflow as tf\n",
    "from tensorflow.keras.utils import load_img\n",
    "from tensorflow.keras.models import Sequential, Model\n",
    "from tensorflow.keras.layers import Dense, Conv2D, Dropout, Flatten, MaxPooling2D, Input\n",
    "from tensorflow.keras.losses import CategoricalCrossentropy, MeanAbsoluteError, BinaryCrossentropy\n",
    "import numpy as np\n",
    "import random\n",
    "import matplotlib.pyplot as plt\n",
    "import os \n",
    "import seaborn as sns\n",
    "import warnings \n",
    "from tqdm.notebook import tqdm \n",
    "warnings.filterwarnings('ignore')\n",
    "%matplotlib inline"
   ]
  },
  {
   "cell_type": "code",
   "execution_count": 2,
   "metadata": {},
   "outputs": [],
   "source": [
    "random.seed(1234)\n",
    "BATCH_SIZE = 64\n",
    "EPOCHS = 80\n",
    "TARGET_SIZE = (128,128)"
   ]
  },
  {
   "cell_type": "code",
   "execution_count": 3,
   "metadata": {},
   "outputs": [
    {
     "data": {
      "application/vnd.jupyter.widget-view+json": {
       "model_id": "fe6351337e5742f69298de6283f44708",
       "version_major": 2,
       "version_minor": 0
      },
      "text/plain": [
       "  0%|          | 0/23693 [00:00<?, ?it/s]"
      ]
     },
     "metadata": {},
     "output_type": "display_data"
    }
   ],
   "source": [
    "BASE_DIR = r'D:\\ML\\mainAgeDec\\UTKFace\\origin_images'\n",
    "age_labels = []\n",
    "gender_labels = []\n",
    "image_paths = []\n",
    "\n",
    "image_filenames = os.listdir(BASE_DIR)\n",
    "random.shuffle(image_filenames)\n",
    "\n",
    "for image in tqdm(image_filenames):\n",
    "  image_path = os.path.join(BASE_DIR, image)\n",
    "  img_components = image.split('_')\n",
    "  age_label = int(img_components[0])\n",
    "  gender_label = int(img_components[1])\n",
    "\n",
    "  # Append the image_path, age_label, and gender_label\n",
    "  age_labels.append(age_label)\n",
    "  gender_labels.append(gender_label)\n",
    "  image_paths.append(image_path)"
   ]
  }
 ],
 "metadata": {
  "kernelspec": {
   "display_name": "Python 3",
   "language": "python",
   "name": "python3"
  },
  "language_info": {
   "codemirror_mode": {
    "name": "ipython",
    "version": 3
   },
   "file_extension": ".py",
   "mimetype": "text/x-python",
   "name": "python",
   "nbconvert_exporter": "python",
   "pygments_lexer": "ipython3",
   "version": "3.9.9"
  }
 },
 "nbformat": 4,
 "nbformat_minor": 2
}
